{
 "cells": [
  {
   "attachments": {},
   "cell_type": "markdown",
   "metadata": {},
   "source": [
    "# Vowel Count (7 kyu)\n"
   ]
  },
  {
   "attachments": {},
   "cell_type": "markdown",
   "metadata": {},
   "source": [
    "DESCRIPTION:\n",
    "Return the number (count) of vowels in the given string.\n",
    "\n",
    "We will consider a, e, i, o, u as vowels for this Kata (but not y).\n",
    "\n",
    "The input string will only consist of lower case letters and/or spaces.\n",
    "\n",
    "https://www.codewars.com/kata/54ff3102c1bad923760001f3"
   ]
  },
  {
   "cell_type": "code",
   "execution_count": 41,
   "metadata": {},
   "outputs": [],
   "source": [
    "def get_count(sentence):\n",
    "    cuenta = 0\n",
    "    for i in range(0, len(sentence)):\n",
    "        if sentence[i] in \"aeiou\":\n",
    "            cuenta = cuenta + 1\n",
    "    return cuenta"
   ]
  },
  {
   "attachments": {},
   "cell_type": "markdown",
   "metadata": {},
   "source": [
    "# Invert values"
   ]
  },
  {
   "attachments": {},
   "cell_type": "markdown",
   "metadata": {},
   "source": [
    "DESCRIPTION:\n",
    "Given a set of numbers, return the additive inverse of each. Each positive becomes negatives, and the negatives become positives.\n",
    "\n",
    "invert([1,2,3,4,5]) == [-1,-2,-3,-4,-5]\n",
    "invert([1,-2,3,-4,5]) == [-1,2,-3,4,-5]\n",
    "invert([]) == []\n",
    "You can assume that all values are integers. Do not mutate the input array/list.\n",
    "\n",
    "https://www.codewars.com/kata/5899dc03bc95b1bf1b0000ad"
   ]
  },
  {
   "cell_type": "code",
   "execution_count": 42,
   "metadata": {},
   "outputs": [],
   "source": [
    "def invert(lst):\n",
    "    lista = []\n",
    "    for i in range(0, len(lst)):\n",
    "        x = -lst[i]\n",
    "        lista.append(x)\n",
    "    return lista"
   ]
  },
  {
   "attachments": {},
   "cell_type": "markdown",
   "metadata": {},
   "source": [
    "# SHA-256"
   ]
  },
  {
   "attachments": {},
   "cell_type": "markdown",
   "metadata": {},
   "source": [
    "Create a function that converts a given ASCII string to its hexadecimal SHA-256 hash.\n",
    "\n",
    "sha256(\"Hello World!\") => \"7f83b1657ff1fc53b92dc18148a1d65dfc2d4b1fa3d677284addd200126d9069\"\n",
    "\n",
    "https://www.codewars.com/kata/587fb57e12fc6eadf200009b"
   ]
  },
  {
   "cell_type": "code",
   "execution_count": null,
   "metadata": {},
   "outputs": [],
   "source": [
    "import hashlib\n",
    "\n",
    "def to_sha256(s):\n",
    "    hash = hashlib.sha256(s.encode('utf-8')).hexdigest()\n",
    "    return hash"
   ]
  },
  {
   "attachments": {},
   "cell_type": "markdown",
   "metadata": {},
   "source": [
    "# Rail Fence Cipher: Encoding and Decoding"
   ]
  },
  {
   "attachments": {},
   "cell_type": "markdown",
   "metadata": {},
   "source": [
    "DESCRIPTION:\n",
    "Create two functions to encode and then decode a string using the Rail Fence Cipher. This cipher is used to encode a string by placing each character successively in a diagonal along a set of \"rails\". First start off moving diagonally and down. When you reach the bottom, reverse direction and move diagonally and up until you reach the top rail. Continue until you reach the end of the string. Each \"rail\" is then read left to right to derive the encoded string.\n",
    "\n",
    "For example, the string \"WEAREDISCOVEREDFLEEATONCE\" could be represented in a three rail system as follows:\n",
    "\n",
    "W       E       C       R       L       T       E\n",
    "  E   R   D   S   O   E   E   F   E   A   O   C  \n",
    "    A       I       V       D       E       N    \n",
    "The encoded string would be:\n",
    "\n",
    "WECRLTEERDSOEEFEAOCAIVDEN\n",
    "Write a function/method that takes 2 arguments, a string and the number of rails, and returns the ENCODED string.\n",
    "\n",
    "Write a second function/method that takes 2 arguments, an encoded string and the number of rails, and returns the DECODED string.\n",
    "\n",
    "For both encoding and decoding, assume number of rails >= 2 and that passing an empty string will return an empty string.\n",
    "\n",
    "Note that the example above excludes the punctuation and spaces just for simplicity. There are, however, tests that include punctuation. Don't filter out punctuation as they are a part of the string.\n",
    "\n",
    "\n",
    "https://www.codewars.com/kata/58c5577d61aefcf3ff000081/python"
   ]
  },
  {
   "cell_type": "code",
   "execution_count": 40,
   "metadata": {},
   "outputs": [],
   "source": [
    "def encode_rail_fence_cipher(string, n):\n",
    "    lista  = []\n",
    "    ascendente = True\n",
    "    x=0\n",
    "    for i in range(0, n):\n",
    "        lista.append([])\n",
    "\n",
    "    for i in range(0, len(string)):\n",
    "        lista[x].append(string[i])\n",
    "        if (ascendente == True):\n",
    "            if x == n-1:\n",
    "                x = x -1\n",
    "                ascendente = False\n",
    "            else:\n",
    "                x = x + 1\n",
    "        else:\n",
    "            if x == 0:\n",
    "                x = x + 1 \n",
    "                ascendente = True\n",
    "            else:\n",
    "                x = x - 1\n",
    "\n",
    "\n",
    "    respuesta  = \"\"\n",
    "\n",
    "    for i in range(0, n):\n",
    "        for j in range(0, len(lista[i])):\n",
    "            respuesta = respuesta + lista[i][j]\n",
    "    return respuesta\n",
    "\n",
    "\n",
    "def decode_rail_fence_cipher(string, n):\n",
    "    lista_index  = []\n",
    "    desplazamiento = (n*2 -2)\n",
    "    n_vueltas = len(string) // desplazamiento\n",
    "    sobras = len(string) % desplazamiento\n",
    "\n",
    "    for i in range(0, n):\n",
    "        if i == 0 or i == n-1:\n",
    "            lista_index.append(n_vueltas)\n",
    "        else:\n",
    "            lista_index.append(n_vueltas*2)\n",
    "\n",
    "    while sobras>0:\n",
    "        if sobras>n:\n",
    "            index = n - (sobras - n) - 1\n",
    "            valor = lista_index.pop(index) + 1\n",
    "            lista_index.insert(index, valor)\n",
    "            sobras = sobras - 1\n",
    "        else:\n",
    "            index = sobras - 1\n",
    "            valor = lista_index.pop(index) + 1\n",
    "            lista_index.insert(index, valor)\n",
    "            sobras = sobras - 1\n",
    "\n",
    "    lista_palabras = []\n",
    "    inicio = 0\n",
    "    fin = 0\n",
    "    for i in range(0, len(lista_index)):\n",
    "        fin = fin + lista_index[i]\n",
    "        lista_palabras.append(string[inicio:fin])\n",
    "        inicio = inicio + lista_index[i]\n",
    "\n",
    "    resultado = \"\"\n",
    "    ascendente = True\n",
    "    x=0\n",
    "    for i in range(0, len(string)):\n",
    "        aux = lista_palabras.pop(x)\n",
    "        palabra = aux[0]\n",
    "        aux = aux[1:len(aux)]\n",
    "        lista_palabras.insert(x, aux)\n",
    "        resultado = resultado + palabra\n",
    "        if (ascendente == True):\n",
    "            if x == n-1:\n",
    "                x = x - 1\n",
    "                ascendente = False\n",
    "            else:\n",
    "                x = x + 1\n",
    "        else:\n",
    "            if x == 0:\n",
    "                x = x + 1 \n",
    "                ascendente = True\n",
    "            else:\n",
    "                x = x - 1\n",
    "    return(resultado)"
   ]
  }
 ],
 "metadata": {
  "kernelspec": {
   "display_name": "Python 3",
   "language": "python",
   "name": "python3"
  },
  "language_info": {
   "codemirror_mode": {
    "name": "ipython",
    "version": 3
   },
   "file_extension": ".py",
   "mimetype": "text/x-python",
   "name": "python",
   "nbconvert_exporter": "python",
   "pygments_lexer": "ipython3",
   "version": "3.11.1"
  },
  "orig_nbformat": 4,
  "vscode": {
   "interpreter": {
    "hash": "7ce52cbbbc6e028708724a15cf5ae56ba876571c2d68b4c149d42b015a691c4a"
   }
  }
 },
 "nbformat": 4,
 "nbformat_minor": 2
}
